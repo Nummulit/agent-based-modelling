{
 "cells": [
  {
   "cell_type": "code",
   "execution_count": 267,
   "metadata": {},
   "outputs": [],
   "source": [
    "import random  # For random sampling.\n",
    "import networkx as nx  # For the graphs.\n",
    "import numpy as np  # For vector operations.\n",
    "import matplotlib.pyplot as plt  # For plotting.\n",
    "from tqdm.notebook import tqdm  # Single function for displaying progress bar."
   ]
  },
  {
   "cell_type": "code",
   "execution_count": 268,
   "metadata": {},
   "outputs": [],
   "source": [
    "def barabasi_albert_with_state(n, m, seed=None):\n",
    "    \"\"\"Create a Barabasi-Albert graph and add 'state' property to each of its nodes.\"\"\"\n",
    "    graph = nx.barabasi_albert_graph(n, m, seed)\n",
    "    for *_, data in graph.nodes.data():\n",
    "        data.update({'state': True})\n",
    "    return graph"
   ]
  },
  {
   "cell_type": "code",
   "execution_count": 269,
   "metadata": {},
   "outputs": [],
   "source": [
    "def complete_with_state(n):\n",
    "    \"\"\"Create a complete graph and add 'state' property to each of its nodes.\"\"\"\n",
    "    graph = nx.complete_graph(n)\n",
    "    for *_, data in graph.nodes.data():\n",
    "        data.update({'state': True})\n",
    "    return graph"
   ]
  },
  {
   "cell_type": "code",
   "execution_count": 271,
   "metadata": {},
   "outputs": [],
   "source": [
    "def update(graph, q=4, p=0.5, f=0.5):\n",
    "    \"\"\"Run a single iteration of the simulation. Given `graph` return a new graph with \n",
    "    the state updated appropriately.\n",
    "    \"\"\"\n",
    "    prev_graph = graph  # Only for reading data.\n",
    "    next_graph = prev_graph.copy()  # Actually being updated.\n",
    "    for (prev_node, prev_data), (next_node, next_data) in zip(prev_graph.nodes.data(), next_graph.nodes.data()):\n",
    "        if random.random() < 1 - p:\n",
    "            # Conformity\n",
    "            neighbours_state = [prev_graph.nodes[n]['state'] for n in nx.neighbors(prev_graph, prev_node)]\n",
    "            if len(neighbours_state) >= q:\n",
    "                chosen_neigbours = random.sample(neighbours_state, q)\n",
    "                if len(set(chosen_neigbours)) == 1:  # If all states are the same.\n",
    "                    next_data.update({'state': chosen_neigbours[0]})  # It doesn't matter which one.\n",
    "        else:\n",
    "            # Independence\n",
    "            if random.random() > f:\n",
    "                next_data.update({'state': not prev_data['state']})\n",
    "    return next_graph"
   ]
  },
  {
   "cell_type": "code",
   "execution_count": 272,
   "metadata": {},
   "outputs": [],
   "source": [
    "def true_fraction(graph):\n",
    "    \"\"\"For given `graph` return the fraction of true nodes.\"\"\"\n",
    "    return len([node for node, data in graph.nodes.data() if data['state']]) / len(graph)"
   ]
  },
  {
   "cell_type": "code",
   "execution_count": 274,
   "metadata": {},
   "outputs": [],
   "source": [
    "def draw_colored(graph):\n",
    "    \"\"\"Draw `graph` with nodes coloured appropriately, i.e. green for true nodes, red\n",
    "    for false ones.\n",
    "    \"\"\"\n",
    "    colors = ['green' if data['state'] else 'red' for node, data in graph.nodes.data()]\n",
    "    nx.draw(graph, node_color=colors)"
   ]
  },
  {
   "cell_type": "code",
   "execution_count": 276,
   "metadata": {},
   "outputs": [],
   "source": [
    "def simulation(n, q=4, f=0.5, n_mc=100, n_iterations=10):\n",
    "    \"\"\"Run the simulation on complete graph, where each graph is updated `n_iterations`\n",
    "    times and the results are averaged using Monte Carlo method with `n_mc` iterations.\n",
    "    \"\"\"\n",
    "    ps = np.linspace(0, 1)\n",
    "    results = []\n",
    "    for p in tqdm(ps):\n",
    "        partial_results = []\n",
    "        for i in range(n_mc):\n",
    "            graph = complete_with_state(n)\n",
    "            for _ in range(n_iterations):\n",
    "                graph = update(graph, q, p, f)\n",
    "            partial_results.append(true_fraction(graph))\n",
    "        partial_results = np.array(partial_results)  # Cast to numpy array.\n",
    "        results.append(partial_results.mean())\n",
    "    return np.array(results)"
   ]
  },
  {
   "cell_type": "markdown",
   "metadata": {},
   "source": [
    "Simulation for connected graph:"
   ]
  },
  {
   "cell_type": "code",
   "execution_count": 265,
   "metadata": {
    "scrolled": true
   },
   "outputs": [
    {
     "data": {
      "application/vnd.jupyter.widget-view+json": {
       "model_id": "66f18f24dbea49e5a924b52e4e16a1c3",
       "version_major": 2,
       "version_minor": 0
      },
      "text/plain": [
       "HBox(children=(IntProgress(value=0, max=50), HTML(value='')))"
      ]
     },
     "metadata": {},
     "output_type": "display_data"
    },
    {
     "name": "stdout",
     "output_type": "stream",
     "text": [
      "\n"
     ]
    },
    {
     "data": {
      "application/vnd.jupyter.widget-view+json": {
       "model_id": "a7a5962c21654c6da4f63814af488efa",
       "version_major": 2,
       "version_minor": 0
      },
      "text/plain": [
       "HBox(children=(IntProgress(value=0, max=50), HTML(value='')))"
      ]
     },
     "metadata": {},
     "output_type": "display_data"
    },
    {
     "name": "stdout",
     "output_type": "stream",
     "text": [
      "\n"
     ]
    },
    {
     "data": {
      "application/vnd.jupyter.widget-view+json": {
       "model_id": "af0e8eced3d74bc2ab9bcbf83bfc1136",
       "version_major": 2,
       "version_minor": 0
      },
      "text/plain": [
       "HBox(children=(IntProgress(value=0, max=50), HTML(value='')))"
      ]
     },
     "metadata": {},
     "output_type": "display_data"
    },
    {
     "name": "stdout",
     "output_type": "stream",
     "text": [
      "\n"
     ]
    },
    {
     "data": {
      "application/vnd.jupyter.widget-view+json": {
       "model_id": "cee3367a36b246dd8b564b56afe213d1",
       "version_major": 2,
       "version_minor": 0
      },
      "text/plain": [
       "HBox(children=(IntProgress(value=0, max=50), HTML(value='')))"
      ]
     },
     "metadata": {},
     "output_type": "display_data"
    },
    {
     "name": "stdout",
     "output_type": "stream",
     "text": [
      "\n"
     ]
    }
   ],
   "source": [
    "f_results = {0.2: [], 0.3: [], 0.4: [], 0.5: []}\n",
    "\n",
    "for f in f_results.keys():\n",
    "    f_results[f] = simulation(100, f=f, n_mc=50, n_iterations=5)"
   ]
  },
  {
   "cell_type": "markdown",
   "metadata": {},
   "source": [
    "Results for connected graph."
   ]
  },
  {
   "cell_type": "code",
   "execution_count": 266,
   "metadata": {},
   "outputs": [
    {
     "data": {
      "image/png": "[encoded data removed]",
      "text/plain": [
       "<Figure size 432x288 with 1 Axes>"
      ]
     },
     "metadata": {
      "needs_background": "light"
     },
     "output_type": "display_data"
    }
   ],
   "source": [
    "colors = ['r', 'g', 'b', 'k']\n",
    "domain = np.linspace(0, 1)\n",
    "for (f, results), color in zip(f_results.items(), colors):\n",
    "    plt.plot(domain ,results, '.', label=f'f={f}', color=color)\n",
    "    plt.plot(domain ,results, ':', alpha=0.5, color=color)\n",
    "plt.legend()\n",
    "plt.grid(alpha=0.3)\n",
    "plt.xlabel(r'$p$')\n",
    "plt.ylabel(r'$c$')\n",
    "plt.show()"
   ]
  },
  {
   "cell_type": "code",
   "execution_count": 277,
   "metadata": {},
   "outputs": [],
   "source": [
    "def ba_simulation(n, q=4, f=0.5, n_mc=100, n_iterations=10):\n",
    "    \"\"\"Run the simulation on Barabasi-Albert graph, where each graph is updated `n_iterations`\n",
    "    times and the results are averaged using Monte Carlo method with `n_mc` iterations.\n",
    "    \"\"\"\n",
    "    ps = np.linspace(0, 1)\n",
    "    results = []\n",
    "    for p in tqdm(ps):\n",
    "        partial_results = []\n",
    "        for i in range(n_mc):\n",
    "            graph = barabasi_albert_with_state(n, m=4)\n",
    "            for _ in range(n_iterations):\n",
    "                graph = update(graph, q, p, f)\n",
    "            partial_results.append(true_fraction(graph))\n",
    "        partial_results = np.array(partial_results)  # Cast to numpy array.\n",
    "        results.append(partial_results.mean())\n",
    "    return np.array(results)"
   ]
  },
  {
   "cell_type": "markdown",
   "metadata": {},
   "source": [
    "Simulations for Barabasi-Albert."
   ]
  },
  {
   "cell_type": "code",
   "execution_count": 261,
   "metadata": {},
   "outputs": [
    {
     "data": {
      "application/vnd.jupyter.widget-view+json": {
       "model_id": "084c65ace3ea4e079a952ae31c8d1e49",
       "version_major": 2,
       "version_minor": 0
      },
      "text/plain": [
       "HBox(children=(IntProgress(value=0, max=50), HTML(value='')))"
      ]
     },
     "metadata": {},
     "output_type": "display_data"
    },
    {
     "name": "stdout",
     "output_type": "stream",
     "text": [
      "\n"
     ]
    },
    {
     "data": {
      "application/vnd.jupyter.widget-view+json": {
       "model_id": "7cf41cf92d5c457eaec1a4922047f1be",
       "version_major": 2,
       "version_minor": 0
      },
      "text/plain": [
       "HBox(children=(IntProgress(value=0, max=50), HTML(value='')))"
      ]
     },
     "metadata": {},
     "output_type": "display_data"
    },
    {
     "name": "stdout",
     "output_type": "stream",
     "text": [
      "\n"
     ]
    },
    {
     "data": {
      "application/vnd.jupyter.widget-view+json": {
       "model_id": "d2a45973af6342fea892db4b4e2347d8",
       "version_major": 2,
       "version_minor": 0
      },
      "text/plain": [
       "HBox(children=(IntProgress(value=0, max=50), HTML(value='')))"
      ]
     },
     "metadata": {},
     "output_type": "display_data"
    },
    {
     "name": "stdout",
     "output_type": "stream",
     "text": [
      "\n"
     ]
    },
    {
     "data": {
      "application/vnd.jupyter.widget-view+json": {
       "model_id": "6922315da9b44a23bbf479bd80ca7884",
       "version_major": 2,
       "version_minor": 0
      },
      "text/plain": [
       "HBox(children=(IntProgress(value=0, max=50), HTML(value='')))"
      ]
     },
     "metadata": {},
     "output_type": "display_data"
    },
    {
     "name": "stdout",
     "output_type": "stream",
     "text": [
      "\n"
     ]
    }
   ],
   "source": [
    "f_results_ba = {0.2: [], 0.3: [], 0.4: [], 0.5: []}\n",
    "\n",
    "for f in f_results_ba.keys():\n",
    "    f_results_ba[f] = ba_simulation(100, f=f, n_mc=50, n_iterations=5)"
   ]
  },
  {
   "cell_type": "markdown",
   "metadata": {},
   "source": [
    "Results for Barabasi-Albert."
   ]
  },
  {
   "cell_type": "code",
   "execution_count": 262,
   "metadata": {},
   "outputs": [
    {
     "data": {
      "image/png": "[encoded data removed]",
      "text/plain": [
       "<Figure size 432x288 with 1 Axes>"
      ]
     },
     "metadata": {
      "needs_background": "light"
     },
     "output_type": "display_data"
    }
   ],
   "source": [
    "colors = ['r', 'g', 'b', 'k']\n",
    "domain = np.linspace(0, 1) \n",
    "for (f, results), color in zip(f_results_ba.items(), colors):\n",
    "    plt.plot(domain ,results, '.', label=f'f={f}', color=color)\n",
    "    plt.plot(domain ,results, '--', alpha=0.5, color=color)\n",
    "plt.legend()\n",
    "plt.grid(alpha=0.3)\n",
    "plt.xlabel(r'$p$')\n",
    "plt.ylabel(r'$c$')\n",
    "plt.show()"
   ]
  }
 ],
 "metadata": {
  "kernelspec": {
   "display_name": "Python 3",
   "language": "python",
   "name": "python3"
  },
  "language_info": {
   "codemirror_mode": {
    "name": "ipython",
    "version": 3
   },
   "file_extension": ".py",
   "mimetype": "text/x-python",
   "name": "python",
   "nbconvert_exporter": "python",
   "pygments_lexer": "ipython3",
   "version": "3.7.3"
  }
 },
 "nbformat": 4,
 "nbformat_minor": 2
}
